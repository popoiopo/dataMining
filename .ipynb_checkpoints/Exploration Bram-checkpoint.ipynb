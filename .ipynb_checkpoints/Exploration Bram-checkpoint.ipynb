{
 "cells": [
  {
   "cell_type": "code",
   "execution_count": 1,
   "metadata": {
    "collapsed": true
   },
   "outputs": [],
   "source": [
    "import pandas as pd\n",
    "import numpy as np\n",
    "import matplotlib.pyplot as plt"
   ]
  },
  {
   "cell_type": "code",
   "execution_count": 2,
   "metadata": {
    "collapsed": true
   },
   "outputs": [],
   "source": [
    "data = pd.read_csv(\"data/training_set_VU_DM_2014.csv\")"
   ]
  },
  {
   "cell_type": "code",
   "execution_count": 8,
   "metadata": {},
   "outputs": [
    {
     "data": {
      "text/plain": [
       "0          27\n",
       "1          26\n",
       "2          21\n",
       "3          34\n",
       "4           4\n",
       "5           7\n",
       "6          18\n",
       "7          35\n",
       "8           3\n",
       "9          10\n",
       "10         20\n",
       "11         19\n",
       "12         13\n",
       "13          2\n",
       "14         15\n",
       "15         31\n",
       "16         23\n",
       "17         36\n",
       "18          8\n",
       "19          6\n",
       "20         28\n",
       "21          1\n",
       "22         32\n",
       "23         12\n",
       "24         24\n",
       "25         37\n",
       "26         33\n",
       "27         29\n",
       "28         21\n",
       "29         36\n",
       "           ..\n",
       "4958317    10\n",
       "4958318    16\n",
       "4958319    31\n",
       "4958320    30\n",
       "4958321     3\n",
       "4958322    22\n",
       "4958323     9\n",
       "4958324    20\n",
       "4958325     1\n",
       "4958326    18\n",
       "4958327     7\n",
       "4958328    13\n",
       "4958329     6\n",
       "4958330    28\n",
       "4958331    27\n",
       "4958332    21\n",
       "4958333    26\n",
       "4958334    29\n",
       "4958335    12\n",
       "4958336    15\n",
       "4958337    19\n",
       "4958338    25\n",
       "4958339     8\n",
       "4958340     2\n",
       "4958341     7\n",
       "4958342     2\n",
       "4958343     3\n",
       "4958344     4\n",
       "4958345     1\n",
       "4958346     6\n",
       "Name: position, Length: 4958347, dtype: int64"
      ]
     },
     "execution_count": 8,
     "metadata": {},
     "output_type": "execute_result"
    }
   ],
   "source": [
    "ids, counts = np.unique(data['srch_id'], return_counts=True)\n",
    "\n",
    "data['position'][[ids == 0]]"
   ]
  }
 ],
 "metadata": {
  "kernelspec": {
   "display_name": "Python 3",
   "language": "python",
   "name": "python3"
  },
  "language_info": {
   "codemirror_mode": {
    "name": "ipython",
    "version": 3
   },
   "file_extension": ".py",
   "mimetype": "text/x-python",
   "name": "python",
   "nbconvert_exporter": "python",
   "pygments_lexer": "ipython3",
   "version": "3.6.1"
  }
 },
 "nbformat": 4,
 "nbformat_minor": 2
}
