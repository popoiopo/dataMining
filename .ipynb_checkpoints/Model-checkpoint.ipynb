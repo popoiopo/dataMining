{
 "cells": [
  {
   "cell_type": "code",
   "execution_count": 58,
   "metadata": {
    "collapsed": true
   },
   "outputs": [],
   "source": [
    "import pandas as pd\n",
    "import numpy as np\n",
    "\n",
    "from sklearn.tree import DecisionTreeClassifier\n",
    "from sklearn.ensemble import RandomForestClassifier\n",
    "from sklearn.svm import SVC\n",
    "\n",
    "from sklearn.model_selection import cross_val_score\n",
    "from sklearn import metrics\n",
    "\n",
    "import matplotlib.pyplot as plt"
   ]
  },
  {
   "cell_type": "code",
   "execution_count": 2,
   "metadata": {
    "collapsed": true
   },
   "outputs": [],
   "source": [
    "data = pd.read_csv(\"data/training_set_VU_DM_2014.csv\")"
   ]
  },
  {
   "cell_type": "markdown",
   "metadata": {},
   "source": [
    "# Data Cleaning"
   ]
  },
  {
   "cell_type": "code",
   "execution_count": 3,
   "metadata": {
    "collapsed": true
   },
   "outputs": [],
   "source": [
    "dates = data[\"date_time\"]\n",
    "dates = pd.to_datetime(dates)\n",
    "days = np.empty(len(dates), np.int32)\n",
    "months = np.empty(len(dates), np.int32)\n",
    "times = np.empty(len(dates), np.int32)\n",
    "\n",
    "for i, date in enumerate(dates):\n",
    "    days[i] = date.isoweekday()\n",
    "    months[i] = date.month\n",
    "    times[i] = date.hour"
   ]
  },
  {
   "cell_type": "code",
   "execution_count": 76,
   "metadata": {},
   "outputs": [],
   "source": [
    "position = data['position']\n",
    "\n",
    "price = data['price_usd']\n",
    "\n",
    "review_score = np.array(data['prop_review_score'], np.float32)\n",
    "review_score[np.isnan(review_score)] = min(review_score[~np.isnan(review_score)])\n",
    "\n",
    "location_score_2 = np.array(data['prop_location_score2'], np.float32)\n",
    "location_score_2[np.isnan(location_score_2)] = min(location_score_2[~np.isnan(location_score_2)])\n",
    "\n",
    "star_rating = data['prop_starrating']\n"
   ]
  },
  {
   "cell_type": "code",
   "execution_count": 77,
   "metadata": {
    "collapsed": true
   },
   "outputs": [],
   "source": [
    "features = np.array([\n",
    "    position,\n",
    "    price,\n",
    "    review_score,\n",
    "    location_score_2,\n",
    "    star_rating,\n",
    "    days,\n",
    "    months,\n",
    "    times\n",
    "], np.float32).T\n",
    "labels = np.array(data['click_bool'], np.bool)"
   ]
  },
  {
   "cell_type": "markdown",
   "metadata": {},
   "source": [
    "# Validation"
   ]
  },
  {
   "cell_type": "code",
   "execution_count": 102,
   "metadata": {},
   "outputs": [
    {
     "name": "stdout",
     "output_type": "stream",
     "text": [
      "             precision    recall  f1-score   support\n",
      "\n",
      "      False       0.97      0.68      0.80      9530\n",
      "       True       0.09      0.63      0.16       470\n",
      "\n",
      "avg / total       0.93      0.68      0.77     10000\n",
      "\n"
     ]
    },
    {
     "data": {
      "image/png": "[encoded data removed]",
      "text/plain": [
       "<matplotlib.figure.Figure at 0x20da3c08c18>"
      ]
     },
     "metadata": {},
     "output_type": "display_data"
    }
   ],
   "source": [
    "positive_N = 5000\n",
    "negative_N = 5000\n",
    "\n",
    "positive_indices = np.argwhere(labels)\n",
    "negative_indices = np.argwhere(~labels)\n",
    "\n",
    "train_samples = np.concatenate([\n",
    "    np.random.choice(positive_indices, positive_N),\n",
    "    np.random.choice(negative_indices, negative_N),\n",
    "])\n",
    "\n",
    "test_samples = np.concatenate([\n",
    "    np.random.choice(positive_indices, positive_N),\n",
    "    np.random.choice(negative_indices, negative_N),\n",
    "])\n",
    "\n",
    "train_features = features[train_samples]\n",
    "train_labels = labels[train_samples]\n",
    "\n",
    "test_features = features[test_samples]\n",
    "test_labels = labels[test_samples]\n",
    "\n",
    "classifier = DecisionTreeClassifier(max_depth=4, class_weight=\"balanced\")\n",
    "classifier.fit(train_features, train_labels)\n",
    "predict_labels = classifier.predict(test_features)\n",
    "print(metrics.classification_report(test_labels, predict_labels))\n",
    "\n",
    "n = range(len(classifier.feature_importances_))\n",
    "plt.bar(n, classifier.feature_importances_)\n",
    "plt.xticks(n, [\"pos\", \"$\", \"rating\", \"location_score\", \"stars\", \"days\", \"Months\", \"times\"], rotation=40)\n",
    "plt.show()"
   ]
  }
 ],
 "metadata": {
  "kernelspec": {
   "display_name": "Python 3",
   "language": "python",
   "name": "python3"
  },
  "language_info": {
   "codemirror_mode": {
    "name": "ipython",
    "version": 3
   },
   "file_extension": ".py",
   "mimetype": "text/x-python",
   "name": "python",
   "nbconvert_exporter": "python",
   "pygments_lexer": "ipython3",
   "version": "3.6.1"
  }
 },
 "nbformat": 4,
 "nbformat_minor": 2
}
