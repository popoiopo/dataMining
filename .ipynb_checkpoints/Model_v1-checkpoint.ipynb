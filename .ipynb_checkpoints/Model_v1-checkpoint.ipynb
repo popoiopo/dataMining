{
 "cells": [
  {
   "cell_type": "code",
   "execution_count": 1,
   "metadata": {
    "collapsed": true
   },
   "outputs": [],
   "source": [
    "import pandas as pd\n",
    "import numpy as np\n",
    "\n",
    "from sklearn.tree import DecisionTreeClassifier\n",
    "from sklearn.ensemble import RandomForestClassifier\n",
    "from sklearn.svm import SVC\n",
    "\n",
    "from sklearn.model_selection import cross_val_score\n",
    "from sklearn import metrics\n",
    "\n",
    "import matplotlib.pyplot as plt"
   ]
  },
  {
   "cell_type": "code",
   "execution_count": 2,
   "metadata": {
    "collapsed": true
   },
   "outputs": [],
   "source": [
    "data = pd.read_csv(\"data/training_set_VU_DM_2014.csv\")"
   ]
  },
  {
   "cell_type": "markdown",
   "metadata": {},
   "source": [
    "# Data Cleaning"
   ]
  },
  {
   "cell_type": "code",
   "execution_count": 3,
   "metadata": {
    "collapsed": true
   },
   "outputs": [],
   "source": [
    "dates = data[\"date_time\"]\n",
    "dates = pd.to_datetime(dates)\n",
    "days = np.empty(len(dates), np.int32)\n",
    "months = np.empty(len(dates), np.int32)\n",
    "times = np.empty(len(dates), np.int32)\n",
    "\n",
    "for i, date in enumerate(dates):\n",
    "    days[i] = date.isoweekday()\n",
    "    months[i] = date.month\n",
    "    times[i] = date.hour"
   ]
  },
  {
   "cell_type": "code",
   "execution_count": 4,
   "metadata": {
    "collapsed": true
   },
   "outputs": [],
   "source": [
    "position = data['position']\n",
    "\n",
    "price = data['price_usd']\n",
    "price_stars = data['price_usd'] / (data['prop_starrating'] + 1)\n",
    "\n",
    "review_score = np.array(data['prop_review_score'], np.float32)\n",
    "review_score[np.isnan(review_score)] = np.percentile(review_score[~np.isnan(review_score)], 25)\n",
    "\n",
    "location_score_2 = np.array(data['prop_location_score2'], np.float32)\n",
    "location_score_2[np.isnan(location_score_2)] = min(location_score_2[~np.isnan(location_score_2)])\n",
    "\n",
    "star_rating = data['prop_starrating']\n"
   ]
  },
  {
   "cell_type": "code",
   "execution_count": 5,
   "metadata": {
    "collapsed": true
   },
   "outputs": [],
   "source": [
    "features = np.array([\n",
    "    position,\n",
    "    price,\n",
    "    price_stars,\n",
    "    review_score,\n",
    "    location_score_2,\n",
    "    star_rating,\n",
    "    days,\n",
    "    months,\n",
    "    times\n",
    "], np.float32).T\n",
    "labels = np.array(data['click_bool'], np.bool)"
   ]
  },
  {
   "cell_type": "markdown",
   "metadata": {},
   "source": [
    "# Validation"
   ]
  },
  {
   "cell_type": "code",
   "execution_count": 6,
   "metadata": {},
   "outputs": [
    {
     "name": "stdout",
     "output_type": "stream",
     "text": [
      "             precision    recall  f1-score   support\n",
      "\n",
      "      False       0.98      0.77      0.86      9556\n",
      "       True       0.10      0.58      0.18       444\n",
      "\n",
      "avg / total       0.94      0.76      0.83     10000\n",
      "\n"
     ]
    },
    {
     "data": {
      "image/png": "[encoded data removed]",
      "text/plain": [
       "<matplotlib.figure.Figure at 0x1317d93af60>"
      ]
     },
     "metadata": {},
     "output_type": "display_data"
    }
   ],
   "source": [
    "positive_N = 5000\n",
    "negative_N = 5000\n",
    "\n",
    "positive_indices = np.argwhere(labels).ravel()\n",
    "negative_indices = np.argwhere(~labels).ravel()\n",
    "\n",
    "\n",
    "train_samples = np.concatenate([\n",
    "    np.random.choice(positive_indices, positive_N),\n",
    "    np.random.choice(negative_indices, negative_N),\n",
    "])\n",
    "\n",
    "test_samples = np.random.choice(len(data), positive_N + negative_N)\n",
    "# test_samples = np.concatenate([\n",
    "#     np.random.choice(positive_indices, positive_N),\n",
    "#     np.random.choice(negative_indices, negative_N),\n",
    "# ])\n",
    "\n",
    "train_features = features[train_samples]\n",
    "train_labels = labels[train_samples]\n",
    "\n",
    "test_features = features[test_samples]\n",
    "test_labels = labels[test_samples]\n",
    "\n",
    "classifier = RandomForestClassifier(200, max_depth=3, class_weight=\"balanced\")\n",
    "classifier.fit(train_features, train_labels)\n",
    "predict_labels = classifier.predict(test_features)\n",
    "print(metrics.classification_report(test_labels, predict_labels))\n",
    "\n",
    "# scores = cross_val_score(classifier, train_features, train_labels, cv=3)\n",
    "# print(\"Decision Tree : Accuracy: {:3.5f} (+/- {:3.4e})\".format(scores.mean(), scores.std() * 2))\n",
    "\n",
    "n = range(len(classifier.feature_importances_))\n",
    "plt.bar(n, classifier.feature_importances_)\n",
    "plt.xticks(n, [\"pos\", \"$\", \"$*\", \"rating\", \"location_score\", \"stars\", \"days\", \"Months\", \"times\"], rotation=40)\n",
    "plt.show()"
   ]
  }
 ],
 "metadata": {
  "kernelspec": {
   "display_name": "Python 3",
   "language": "python",
   "name": "python3"
  },
  "language_info": {
   "codemirror_mode": {
    "name": "ipython",
    "version": 3
   },
   "file_extension": ".py",
   "mimetype": "text/x-python",
   "name": "python",
   "nbconvert_exporter": "python",
   "pygments_lexer": "ipython3",
   "version": "3.6.1"
  }
 },
 "nbformat": 4,
 "nbformat_minor": 2
}
