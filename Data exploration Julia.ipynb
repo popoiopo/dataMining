{
 "cells": [
  {
   "cell_type": "code",
   "execution_count": 36,
   "metadata": {
    "collapsed": false
   },
   "outputs": [],
   "source": [
    "import pandas as pd\n",
    "import matplotlib.pyplot as plt\n",
    "import math\n",
    "import numpy as np\n",
    "from datetime import datetime\n",
    "import matplotlib"
   ]
  },
  {
   "cell_type": "markdown",
   "metadata": {},
   "source": [
    "#### Load in dataset"
   ]
  },
  {
   "cell_type": "code",
   "execution_count": 3,
   "metadata": {
    "collapsed": false
   },
   "outputs": [],
   "source": [
    "df_tr = pd.read_csv(\"data/train.csv\")"
   ]
  },
  {
   "cell_type": "code",
   "execution_count": 96,
   "metadata": {
    "collapsed": true
   },
   "outputs": [],
   "source": [
    "df_tst = pd.read_csv(\"data/test.csv\")"
   ]
  },
  {
   "cell_type": "markdown",
   "metadata": {},
   "source": [
    "# Location location ;)"
   ]
  },
  {
   "cell_type": "code",
   "execution_count": 3,
   "metadata": {
    "collapsed": false
   },
   "outputs": [],
   "source": [
    "loc = df_tr[\"prop_location_score2\"]\n",
    "clicked = df_tr[\"click_bool\"]\n",
    "booked = df_tr[\"booking_bool\"]"
   ]
  },
  {
   "cell_type": "code",
   "execution_count": 22,
   "metadata": {
    "collapsed": false
   },
   "outputs": [
    {
     "name": "stdout",
     "output_type": "stream",
     "text": [
      "NaNs:\n",
      "Number:  1090348\n",
      "Percentage:,  21.9901511532 \n",
      "\n",
      "Unique values:\n",
      "Number:  9343\n",
      "Percentage:  0.18842973273149297 \n",
      "\n",
      "Max:  1.0\n",
      "Min:  0.0\n",
      "Mean:  0.13038516788660134\n"
     ]
    }
   ],
   "source": [
    "print(\"NaNs:\")\n",
    "print(\"Number: \",loc.isnull().sum())\n",
    "print(\"Percentage:, \", loc.isnull().sum()/len(loc) * 100, \"\\n\")\n",
    "\n",
    "print(\"Unique values:\")\n",
    "print(\"Number: \", len(loc.unique()))\n",
    "print(\"Percentage: \", len(loc.unique())/len(loc) * 100, \"\\n\")\n",
    "\n",
    "print(\"Max: \", max(loc))\n",
    "print(\"Min: \", min(loc))\n",
    "print(\"Mean: \", np.mean(loc))\n",
    "\n",
    "loc_no_nan = loc.fillna(np.mean(loc))"
   ]
  },
  {
   "cell_type": "markdown",
   "metadata": {},
   "source": [
    "#### Histogram"
   ]
  },
  {
   "cell_type": "code",
   "execution_count": 5,
   "metadata": {
    "collapsed": false
   },
   "outputs": [
    {
     "data": {
      "image/png": "[encoded data removed]",
      "text/plain": [
       "<matplotlib.figure.Figure at 0x11a00fd30>"
      ]
     },
     "metadata": {},
     "output_type": "display_data"
    }
   ],
   "source": [
    "plt.hist(loc_no_nan)\n",
    "plt.show()"
   ]
  },
  {
   "cell_type": "markdown",
   "metadata": {},
   "source": [
    "#### booked and clicked"
   ]
  },
  {
   "cell_type": "code",
   "execution_count": 6,
   "metadata": {
    "collapsed": false
   },
   "outputs": [],
   "source": [
    "booked_loc = []\n",
    "for i in range(len(loc)):\n",
    "    if booked[i] == 1: \n",
    "        booked_loc.append(loc[i])"
   ]
  },
  {
   "cell_type": "code",
   "execution_count": 7,
   "metadata": {
    "collapsed": true
   },
   "outputs": [],
   "source": [
    "clicked_loc = []\n",
    "for i in range(len(loc)):\n",
    "    if clicked[i] == 1: \n",
    "        clicked_loc.append(loc[i])"
   ]
  },
  {
   "cell_type": "code",
   "execution_count": 17,
   "metadata": {
    "collapsed": false
   },
   "outputs": [],
   "source": [
    "booked_loc = pd.Series(booked_loc)\n",
    "clicked_loc = pd.Series(clicked_loc)"
   ]
  },
  {
   "cell_type": "code",
   "execution_count": 20,
   "metadata": {
    "collapsed": false
   },
   "outputs": [
    {
     "name": "stdout",
     "output_type": "stream",
     "text": [
      "Mean clicked:  0.1814377599270505\n",
      "Mean booked:  0.18859192194712773\n",
      "Percentage nan clicked:  12.0245719514\n",
      "Percentage nan booked:  10.4588481827\n"
     ]
    }
   ],
   "source": [
    "print(\"Mean clicked: \", np.mean(clicked_loc))\n",
    "print(\"Mean booked: \", np.mean(booked_loc))\n",
    "        \n",
    "print(\"Percentage nan clicked: \", clicked_loc.isnull().sum()/len(clicked_loc)*100)\n",
    "print(\"Percentage nan booked: \", booked_loc.isnull().sum()/len(booked_loc)*100)"
   ]
  },
  {
   "cell_type": "code",
   "execution_count": 23,
   "metadata": {
    "collapsed": false
   },
   "outputs": [],
   "source": [
    "booked_no_nan = booked_loc.fillna(np.mean(booked_loc))\n",
    "clicked_no_nan = clicked_loc.fillna(np.mean(clicked_loc))"
   ]
  },
  {
   "cell_type": "code",
   "execution_count": 55,
   "metadata": {
    "collapsed": false
   },
   "outputs": [],
   "source": [
    "booked_all = np.histogram(booked_no_nan, 50)[0] / np.histogram(loc_no_nan, 50)[0]\n",
    "clicked_all = np.histogram(clicked_no_nan, 50)[0] / np.histogram(loc_no_nan, 50)[0]"
   ]
  },
  {
   "cell_type": "code",
   "execution_count": 56,
   "metadata": {
    "collapsed": false
   },
   "outputs": [
    {
     "data": {
      "image/png": "[encoded data removed]",
      "text/plain": [
       "<matplotlib.figure.Figure at 0x1195ff4e0>"
      ]
     },
     "metadata": {},
     "output_type": "display_data"
    },
    {
     "data": {
      "image/png": "[encoded data removed]",
      "text/plain": [
       "<matplotlib.figure.Figure at 0x11b333eb8>"
      ]
     },
     "metadata": {},
     "output_type": "display_data"
    }
   ],
   "source": [
    "plt.hist(booked_all)\n",
    "plt.title(\"booked/all wrong labels\")\n",
    "plt.show()\n",
    "plt.hist(clicked_all)\n",
    "plt.title(\"clicked/all wrong labels\")\n",
    "plt.show()"
   ]
  },
  {
   "cell_type": "code",
   "execution_count": 59,
   "metadata": {
    "collapsed": false
   },
   "outputs": [
    {
     "data": {
      "image/png": "[encoded data removed]",
      "text/plain": [
       "<matplotlib.figure.Figure at 0x11ac06a90>"
      ]
     },
     "metadata": {},
     "output_type": "display_data"
    },
    {
     "data": {
      "image/png": "[encoded data removed]",
      "text/plain": [
       "<matplotlib.figure.Figure at 0x11a8fedd8>"
      ]
     },
     "metadata": {},
     "output_type": "display_data"
    }
   ],
   "source": [
    "plt.hist(booked_no_nan)\n",
    "plt.show()\n",
    "plt.hist(clicked_no_nan)\n",
    "plt.show()"
   ]
  },
  {
   "cell_type": "markdown",
   "metadata": {},
   "source": [
    "# Date Time :>"
   ]
  },
  {
   "cell_type": "code",
   "execution_count": 4,
   "metadata": {
    "collapsed": false
   },
   "outputs": [],
   "source": [
    "dates = df_tr[\"date_time\"]\n",
    "clicked = df_tr[\"click_bool\"]\n",
    "booked = df_tr[\"booking_bool\"]\n",
    "\n",
    "dates = pd.to_datetime(dates)"
   ]
  },
  {
   "cell_type": "code",
   "execution_count": 5,
   "metadata": {
    "collapsed": false
   },
   "outputs": [
    {
     "name": "stdout",
     "output_type": "stream",
     "text": [
      "Number of NaNs:  0 \n",
      "\n",
      "Unique values:\n",
      "Number:  198615\n",
      "Percentage:  4.005669631431604 \n",
      "\n",
      "Max:  2013-06-30 23:58:24\n",
      "Min:  2012-11-01 00:08:29\n"
     ]
    }
   ],
   "source": [
    "print(\"Number of NaNs: \", dates.isnull().sum(), \"\\n\")\n",
    "\n",
    "print(\"Unique values:\")\n",
    "print(\"Number: \", len(dates.unique()))\n",
    "print(\"Percentage: \", len(dates.unique())/len(dates) * 100, \"\\n\")\n",
    "\n",
    "print(\"Max: \", max(dates))\n",
    "print(\"Min: \", min(dates))"
   ]
  },
  {
   "cell_type": "code",
   "execution_count": 101,
   "metadata": {
    "collapsed": false
   },
   "outputs": [],
   "source": [
    "days = []\n",
    "months = []\n",
    "times = []\n",
    "for date in dates:\n",
    "    days.append(date.isoweekday())\n",
    "    months.append(date.month)\n",
    "    times.append(date.hour)\n",
    "    \n",
    "days = pd.Series(days)\n",
    "months = pd.Series(months)\n",
    "times = pd.Series(times)"
   ]
  },
  {
   "cell_type": "code",
   "execution_count": 102,
   "metadata": {
    "collapsed": false
   },
   "outputs": [
    {
     "name": "stdout",
     "output_type": "stream",
     "text": [
      "Unique months:  8\n",
      "Unique days:  7\n",
      "Unique hours:  24\n"
     ]
    },
    {
     "data": {
      "image/png": "[encoded data removed]",
      "text/plain": [
       "<matplotlib.figure.Figure at 0x1169ce710>"
      ]
     },
     "metadata": {},
     "output_type": "display_data"
    },
    {
     "data": {
      "image/png": "[encoded data removed]",
      "text/plain": [
       "<matplotlib.figure.Figure at 0x1161b66d8>"
      ]
     },
     "metadata": {},
     "output_type": "display_data"
    },
    {
     "data": {
      "image/png": "[encoded data removed]",
      "text/plain": [
       "<matplotlib.figure.Figure at 0x169313c18>"
      ]
     },
     "metadata": {},
     "output_type": "display_data"
    }
   ],
   "source": [
    "print(\"Unique months: \",len(months.unique()))\n",
    "print(\"Unique days: \",len(days.unique()))\n",
    "print(\"Unique hours: \", len(times.unique()))\n",
    "\n",
    "plt.hist(days, 7)\n",
    "plt.show()\n",
    "plt.hist(months, 12)\n",
    "plt.show()\n",
    "plt.hist(times, 24)\n",
    "plt.show()"
   ]
  },
  {
   "cell_type": "code",
   "execution_count": 103,
   "metadata": {
    "collapsed": false,
    "scrolled": true
   },
   "outputs": [],
   "source": [
    "booked_dates = []\n",
    "for i in range(len(dates)):\n",
    "    if booked[i] == 1: \n",
    "        booked_dates.append(dates[i])\n",
    "\n",
    "clicked_dates = []\n",
    "for i in range(len(dates)):\n",
    "    if clicked[i] == 1: \n",
    "        clicked_dates.append(dates[i])\n",
    "        \n",
    "booked_dates = pd.Series(booked_dates)\n",
    "clicked_dates = pd.Series(clicked_dates)"
   ]
  },
  {
   "cell_type": "code",
   "execution_count": 104,
   "metadata": {
    "collapsed": false
   },
   "outputs": [
    {
     "name": "stdout",
     "output_type": "stream",
     "text": [
      "Unique values:\n",
      "Number clicked:  198615\n",
      "Percentage:  89.51500592665371 \n",
      "\n",
      "Number booked:  137786\n",
      "Percentage:  99.56355227978901 \n",
      "\n",
      "Max clicked & booked:  2013-06-30 23:58:24 & 2013-06-30 23:46:18\n",
      "Minclicked & booked:  2012-11-01 00:08:29 & 2012-11-01 00:09:21\n"
     ]
    }
   ],
   "source": [
    "print(\"Unique values:\")\n",
    "print(\"Number clicked: \", len(clicked_dates.unique()))\n",
    "print(\"Percentage: \", len(clicked_dates.unique())/len(clicked_dates) * 100, \"\\n\")\n",
    "\n",
    "print(\"Number booked: \", len(booked_dates.unique()))\n",
    "print(\"Percentage: \", len(booked_dates.unique())/len(booked_dates) * 100, \"\\n\")\n",
    "\n",
    "print(\"Max clicked & booked: \", max(clicked_dates),\"&\", max(booked_dates))\n",
    "print(\"Minclicked & booked: \", min(clicked_dates),\"&\", min(booked_dates))"
   ]
  },
  {
   "cell_type": "code",
   "execution_count": 106,
   "metadata": {
    "collapsed": true
   },
   "outputs": [],
   "source": [
    "days_click = []\n",
    "months_click = []\n",
    "times_click = []\n",
    "\n",
    "for date in clicked_dates:\n",
    "    days_click.append(date.isoweekday())\n",
    "    months_click.append(date.month)\n",
    "    times_click.append(date.hour)\n",
    "    \n",
    "days_click = pd.Series(days_click)\n",
    "months_click = pd.Series(months_click)\n",
    "times_click = pd.Series(times_click)"
   ]
  },
  {
   "cell_type": "code",
   "execution_count": 107,
   "metadata": {
    "collapsed": true
   },
   "outputs": [],
   "source": [
    "days_book = []\n",
    "months_book = []\n",
    "times_book = []\n",
    "\n",
    "for date in booked_dates:\n",
    "    days_book.append(date.isoweekday())\n",
    "    months_book.append(date.month)\n",
    "    times_book.append(date.hour)\n",
    "    \n",
    "days_book = pd.Series(days_book)\n",
    "months_book = pd.Series(months_book)\n",
    "times_book = pd.Series(times_book)"
   ]
  },
  {
   "cell_type": "code",
   "execution_count": 108,
   "metadata": {
    "collapsed": false
   },
   "outputs": [
    {
     "name": "stdout",
     "output_type": "stream",
     "text": [
      "Unique months:  8\n"
     ]
    },
    {
     "data": {
      "image/png": "[encoded data removed]",
      "text/plain": [
       "<matplotlib.figure.Figure at 0x15c39d828>"
      ]
     },
     "metadata": {},
     "output_type": "display_data"
    },
    {
     "data": {
      "image/png": "[encoded data removed]",
      "text/plain": [
       "<matplotlib.figure.Figure at 0x12a258080>"
      ]
     },
     "metadata": {},
     "output_type": "display_data"
    },
    {
     "data": {
      "image/png": "[encoded data removed]",
      "text/plain": [
       "<matplotlib.figure.Figure at 0x116a20438>"
      ]
     },
     "metadata": {},
     "output_type": "display_data"
    }
   ],
   "source": [
    "print(\"Unique months: \",len(months_click.unique()))\n",
    "\n",
    "plt.hist(days_click, 7)\n",
    "plt.show()\n",
    "plt.hist(months_click, 12)\n",
    "plt.show()\n",
    "plt.hist(times_click,24)\n",
    "plt.show()"
   ]
  },
  {
   "cell_type": "code",
   "execution_count": 109,
   "metadata": {
    "collapsed": false
   },
   "outputs": [
    {
     "name": "stdout",
     "output_type": "stream",
     "text": [
      "Unique months:  8\n"
     ]
    },
    {
     "data": {
      "image/png": "[encoded data removed]",
      "text/plain": [
       "<matplotlib.figure.Figure at 0x116a30ba8>"
      ]
     },
     "metadata": {},
     "output_type": "display_data"
    },
    {
     "data": {
      "image/png": "[encoded data removed]",
      "text/plain": [
       "<matplotlib.figure.Figure at 0x1173c4c50>"
      ]
     },
     "metadata": {},
     "output_type": "display_data"
    },
    {
     "data": {
      "image/png": "[encoded data removed]",
      "text/plain": [
       "<matplotlib.figure.Figure at 0x12ca6f898>"
      ]
     },
     "metadata": {},
     "output_type": "display_data"
    }
   ],
   "source": [
    "print(\"Unique months: \",len(months_book.unique()))\n",
    "\n",
    "plt.hist(days_book, 7)\n",
    "plt.show()\n",
    "plt.hist(months_book, 12)\n",
    "plt.show()\n",
    "plt.hist(times_book,24)\n",
    "plt.show()"
   ]
  },
  {
   "cell_type": "code",
   "execution_count": 98,
   "metadata": {
    "collapsed": false
   },
   "outputs": [
    {
     "data": {
      "text/plain": [
       "'2012-11-01 00:01:37'"
      ]
     },
     "execution_count": 98,
     "metadata": {},
     "output_type": "execute_result"
    }
   ],
   "source": [
    "min(df_tst[\"date_time\"])"
   ]
  },
  {
   "cell_type": "code",
   "execution_count": 99,
   "metadata": {
    "collapsed": false
   },
   "outputs": [
    {
     "data": {
      "text/plain": [
       "'2013-06-30 23:55:44'"
      ]
     },
     "execution_count": 99,
     "metadata": {},
     "output_type": "execute_result"
    }
   ],
   "source": [
    "max(df_tst[\"date_time\"])"
   ]
  },
  {
   "cell_type": "markdown",
   "metadata": {},
   "source": [
    "# Length of stay \\*.\\*"
   ]
  },
  {
   "cell_type": "code",
   "execution_count": 122,
   "metadata": {
    "collapsed": true
   },
   "outputs": [],
   "source": [
    "stay = df_tr[\"srch_length_of_stay\"]\n",
    "clicked = df_tr[\"click_bool\"]\n",
    "booked = df_tr[\"booking_bool\"]"
   ]
  },
  {
   "cell_type": "code",
   "execution_count": 123,
   "metadata": {
    "collapsed": false
   },
   "outputs": [
    {
     "name": "stdout",
     "output_type": "stream",
     "text": [
      "Number of NaNs:  0 \n",
      "\n",
      "Unique values:\n",
      "Number:  36\n",
      "Percentage:  0.0007260484189589797 \n",
      "\n",
      "Max:  57\n",
      "Min:  1\n"
     ]
    }
   ],
   "source": [
    "print(\"Number of NaNs: \", stay.isnull().sum(), \"\\n\")\n",
    "\n",
    "print(\"Unique values:\")\n",
    "print(\"Number: \", len(stay.unique()))\n",
    "print(\"Percentage: \", len(stay.unique())/len(stay) * 100, \"\\n\")\n",
    "\n",
    "print(\"Max: \", max(stay))\n",
    "print(\"Min: \", min(stay))"
   ]
  },
  {
   "cell_type": "code",
   "execution_count": null,
   "metadata": {
    "collapsed": true
   },
   "outputs": [],
   "source": [
    "plt.hist()"
   ]
  }
 ],
 "metadata": {
  "kernelspec": {
   "display_name": "Python 3",
   "language": "python",
   "name": "python3"
  },
  "language_info": {
   "codemirror_mode": {
    "name": "ipython",
    "version": 3
   },
   "file_extension": ".py",
   "mimetype": "text/x-python",
   "name": "python",
   "nbconvert_exporter": "python",
   "pygments_lexer": "ipython3",
   "version": "3.6.0"
  }
 },
 "nbformat": 4,
 "nbformat_minor": 2
}
