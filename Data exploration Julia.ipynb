{
 "cells": [
  {
   "cell_type": "code",
   "execution_count": 1,
   "metadata": {
    "collapsed": false
   },
   "outputs": [],
   "source": [
    "import pandas as pd\n",
    "import matplotlib.pyplot as plt\n",
    "import math\n",
    "import numpy as np\n",
    "from datetime import datetime\n",
    "import matplotlib"
   ]
  },
  {
   "cell_type": "markdown",
   "metadata": {},
   "source": [
    "#### Load in dataset"
   ]
  },
  {
   "cell_type": "code",
   "execution_count": 2,
   "metadata": {
    "collapsed": false
   },
   "outputs": [],
   "source": [
    "df_tr = pd.read_csv(\"data/train.csv\")"
   ]
  },
  {
   "cell_type": "code",
   "execution_count": 3,
   "metadata": {
    "collapsed": true
   },
   "outputs": [],
   "source": [
    "df_tst = pd.read_csv(\"data/test.csv\")"
   ]
  },
  {
   "cell_type": "markdown",
   "metadata": {},
   "source": [
    "# Location location ;)"
   ]
  },
  {
   "cell_type": "code",
   "execution_count": 4,
   "metadata": {
    "collapsed": false
   },
   "outputs": [],
   "source": [
    "loc = df_tr[\"prop_location_score2\"]\n",
    "clicked = df_tr[\"click_bool\"]\n",
    "booked = df_tr[\"booking_bool\"]"
   ]
  },
  {
   "cell_type": "code",
   "execution_count": 5,
   "metadata": {
    "collapsed": false
   },
   "outputs": [
    {
     "name": "stdout",
     "output_type": "stream",
     "text": [
      "NaNs:\n",
      "Number:  1090348\n",
      "Percentage:,  21.9901511532 \n",
      "\n",
      "Unique values:\n",
      "Number:  9343\n",
      "Percentage:  0.18842973273149297 \n",
      "\n",
      "Max:  1.0\n",
      "Min:  0.0\n",
      "Mean:  0.13038516788660134\n"
     ]
    }
   ],
   "source": [
    "print(\"NaNs:\")\n",
    "print(\"Number: \",loc.isnull().sum())\n",
    "print(\"Percentage:, \", loc.isnull().sum()/len(loc) * 100, \"\\n\")\n",
    "\n",
    "print(\"Unique values:\")\n",
    "print(\"Number: \", len(loc.unique()))\n",
    "print(\"Percentage: \", len(loc.unique())/len(loc) * 100, \"\\n\")\n",
    "\n",
    "print(\"Max: \", max(loc))\n",
    "print(\"Min: \", min(loc))\n",
    "print(\"Mean: \", np.mean(loc))\n",
    "\n",
    "loc_no_nan = loc.fillna(min(loc))"
   ]
  },
  {
   "cell_type": "markdown",
   "metadata": {},
   "source": [
    "#### Histogram"
   ]
  },
  {
   "cell_type": "code",
   "execution_count": 6,
   "metadata": {
    "collapsed": false
   },
   "outputs": [
    {
     "data": {
      "image/png": "[encoded data removed]",
      "text/plain": [
       "<matplotlib.figure.Figure at 0x1281e7080>"
      ]
     },
     "metadata": {},
     "output_type": "display_data"
    }
   ],
   "source": [
    "plt.hist(loc_no_nan)\n",
    "plt.show()"
   ]
  },
  {
   "cell_type": "markdown",
   "metadata": {},
   "source": [
    "#### booked and clicked"
   ]
  },
  {
   "cell_type": "code",
   "execution_count": 7,
   "metadata": {
    "collapsed": false
   },
   "outputs": [],
   "source": [
    "booked_loc = []\n",
    "for i in range(len(loc)):\n",
    "    if booked[i] == 1: \n",
    "        booked_loc.append(loc[i])"
   ]
  },
  {
   "cell_type": "code",
   "execution_count": 8,
   "metadata": {
    "collapsed": true
   },
   "outputs": [],
   "source": [
    "clicked_loc = []\n",
    "for i in range(len(loc)):\n",
    "    if clicked[i] == 1: \n",
    "        clicked_loc.append(loc[i])"
   ]
  },
  {
   "cell_type": "code",
   "execution_count": 9,
   "metadata": {
    "collapsed": false
   },
   "outputs": [],
   "source": [
    "booked_loc = pd.Series(booked_loc)\n",
    "clicked_loc = pd.Series(clicked_loc)"
   ]
  },
  {
   "cell_type": "code",
   "execution_count": 10,
   "metadata": {
    "collapsed": false
   },
   "outputs": [
    {
     "name": "stdout",
     "output_type": "stream",
     "text": [
      "Mean clicked:  0.1814377599270505\n",
      "Mean booked:  0.18859192194712773\n",
      "Percentage nan clicked:  12.0245719514\n",
      "Percentage nan booked:  10.4588481827\n"
     ]
    }
   ],
   "source": [
    "print(\"Mean clicked: \", np.mean(clicked_loc))\n",
    "print(\"Mean booked: \", np.mean(booked_loc))\n",
    "        \n",
    "print(\"Percentage nan clicked: \", clicked_loc.isnull().sum() / len(clicked_loc)*100)\n",
    "print(\"Percentage nan booked: \", booked_loc.isnull().sum() / len(booked_loc)*100)"
   ]
  },
  {
   "cell_type": "code",
   "execution_count": 11,
   "metadata": {
    "collapsed": false
   },
   "outputs": [],
   "source": [
    "clicked_no_nan = clicked_loc.fillna(min(clicked_loc))\n",
    "booked_no_nan = booked_loc.fillna(min(booked_loc))"
   ]
  },
  {
   "cell_type": "code",
   "execution_count": 13,
   "metadata": {
    "collapsed": false
   },
   "outputs": [],
   "source": [
    "loc_unique, loc_counts = np.unique(loc_no_nan, return_counts=True)\n",
    "click_unique, click_counts = np.unique(clicked_no_nan, return_counts=True)\n",
    "book_unique, book_counts = np.unique(booked_no_nan, return_counts=True)\n"
   ]
  },
  {
   "cell_type": "code",
   "execution_count": 14,
   "metadata": {
    "collapsed": false
   },
   "outputs": [],
   "source": [
    "loc_counts_click = []\n",
    "\n",
    "for i in range(len(click_unique)):\n",
    "    for j in range(len(loc_unique)):\n",
    "        if click_unique[i] == loc_unique[j]:\n",
    "            loc_counts_click.append(loc_counts[j])\n",
    "\n",
    "loc_counts_book = []\n",
    "\n",
    "for i in range(len(book_unique)):\n",
    "    for j in range(len(loc_unique)):\n",
    "        if book_unique[i] == loc_unique[j]:\n",
    "            loc_counts_book.append(loc_counts[j])\n"
   ]
  },
  {
   "cell_type": "code",
   "execution_count": 77,
   "metadata": {
    "collapsed": false
   },
   "outputs": [
    {
     "data": {
      "image/png": "[encoded data removed]",
      "text/plain": [
       "<matplotlib.figure.Figure at 0x13a500198>"
      ]
     },
     "metadata": {},
     "output_type": "display_data"
    },
    {
     "data": {
      "image/png": "[encoded data removed]",
      "text/plain": [
       "<matplotlib.figure.Figure at 0x12a482ba8>"
      ]
     },
     "metadata": {},
     "output_type": "display_data"
    }
   ],
   "source": [
    "plt.bar(click_unique, loc_counts_click/click_counts,0.01) \n",
    "plt.show()\n",
    "\n",
    "plt.bar(book_unique, loc_counts_book/book_counts,0.01)\n",
    "plt.show()"
   ]
  },
  {
   "cell_type": "markdown",
   "metadata": {},
   "source": [
    "# Date Time :>"
   ]
  },
  {
   "cell_type": "code",
   "execution_count": 16,
   "metadata": {
    "collapsed": false
   },
   "outputs": [],
   "source": [
    "dates = df_tr[\"date_time\"]\n",
    "clicked = df_tr[\"click_bool\"]\n",
    "booked = df_tr[\"booking_bool\"]\n",
    "\n",
    "dates = pd.to_datetime(dates)"
   ]
  },
  {
   "cell_type": "code",
   "execution_count": 17,
   "metadata": {
    "collapsed": false
   },
   "outputs": [
    {
     "name": "stdout",
     "output_type": "stream",
     "text": [
      "Number of NaNs:  0 \n",
      "\n",
      "Unique values:\n",
      "Number:  198615\n",
      "Percentage:  4.005669631431604 \n",
      "\n",
      "Max:  2013-06-30 23:58:24\n",
      "Min:  2012-11-01 00:08:29\n"
     ]
    }
   ],
   "source": [
    "print(\"Number of NaNs: \", dates.isnull().sum(), \"\\n\")\n",
    "\n",
    "print(\"Unique values:\")\n",
    "print(\"Number: \", len(dates.unique()))\n",
    "print(\"Percentage: \", len(dates.unique())/len(dates) * 100, \"\\n\")\n",
    "\n",
    "print(\"Max: \", max(dates))\n",
    "print(\"Min: \", min(dates))"
   ]
  },
  {
   "cell_type": "code",
   "execution_count": 18,
   "metadata": {
    "collapsed": false
   },
   "outputs": [],
   "source": [
    "days = []\n",
    "months = []\n",
    "times = []\n",
    "for date in dates:\n",
    "    days.append(date.isoweekday())\n",
    "    months.append(date.month)\n",
    "    times.append(date.hour)\n",
    "    \n",
    "days = pd.Series(days)\n",
    "months = pd.Series(months)\n",
    "times = pd.Series(times)"
   ]
  },
  {
   "cell_type": "code",
   "execution_count": 19,
   "metadata": {
    "collapsed": false
   },
   "outputs": [
    {
     "name": "stdout",
     "output_type": "stream",
     "text": [
      "Unique months:  8\n",
      "Unique days:  7\n",
      "Unique hours:  24\n"
     ]
    },
    {
     "data": {
      "image/png": "[encoded data removed]",
      "text/plain": [
       "<matplotlib.figure.Figure at 0x17e1ce710>"
      ]
     },
     "metadata": {},
     "output_type": "display_data"
    },
    {
     "data": {
      "image/png": "[encoded data removed]",
      "text/plain": [
       "<matplotlib.figure.Figure at 0x11ec7c7f0>"
      ]
     },
     "metadata": {},
     "output_type": "display_data"
    },
    {
     "data": {
      "image/png": "[encoded data removed]",
      "text/plain": [
       "<matplotlib.figure.Figure at 0x1161732e8>"
      ]
     },
     "metadata": {},
     "output_type": "display_data"
    }
   ],
   "source": [
    "print(\"Unique months: \",len(months.unique()))\n",
    "print(\"Unique days: \",len(days.unique()))\n",
    "print(\"Unique hours: \", len(times.unique()))\n",
    "\n",
    "plt.hist(days, 7)\n",
    "plt.show()\n",
    "plt.hist(months, 12)\n",
    "plt.show()\n",
    "plt.hist(times, 24)\n",
    "plt.show()"
   ]
  },
  {
   "cell_type": "markdown",
   "metadata": {},
   "source": [
    "#### Booked & clicked"
   ]
  },
  {
   "cell_type": "code",
   "execution_count": 47,
   "metadata": {
    "collapsed": false,
    "scrolled": true
   },
   "outputs": [],
   "source": [
    "booked_dates = []\n",
    "for i in range(len(dates)):\n",
    "    if booked[i] == 1: \n",
    "        booked_dates.append(dates[i])\n",
    "\n",
    "clicked_dates = []\n",
    "for i in range(len(dates)):\n",
    "    if clicked[i] == 1: \n",
    "        clicked_dates.append(dates[i])\n",
    "        \n",
    "booked_dates = pd.Series(booked_dates)\n",
    "clicked_dates = pd.Series(clicked_dates)"
   ]
  },
  {
   "cell_type": "code",
   "execution_count": 49,
   "metadata": {
    "collapsed": false
   },
   "outputs": [
    {
     "name": "stdout",
     "output_type": "stream",
     "text": [
      "Unique values:\n",
      "Number clicked:  198615\n",
      "Percentage:  4.474858254172207 \n",
      "\n",
      "Number booked:  137786\n",
      "Percentage:  2.7910511305481442 \n",
      "\n",
      "Max clicked & booked:  2013-06-30 23:58:24 & 2013-06-30 23:46:18\n",
      "Min clicked & booked:  2012-11-01 00:08:29 & 2012-11-01 00:09:21\n"
     ]
    }
   ],
   "source": [
    "print(\"Unique values:\")\n",
    "print(\"Number clicked: \", len(clicked_dates.unique()))\n",
    "print(\"Percentage: \", len(clicked_dates)/len(dates) * 100, \"\\n\")\n",
    "\n",
    "print(\"Number booked: \", len(booked_dates.unique()))\n",
    "print(\"Percentage: \", len(booked_dates)/len(dates) * 100, \"\\n\")\n",
    "\n",
    "print(\"Max clicked & booked: \", max(clicked_dates),\"&\", max(booked_dates))\n",
    "print(\"Min clicked & booked: \", min(clicked_dates),\"&\", min(booked_dates))"
   ]
  },
  {
   "cell_type": "code",
   "execution_count": 50,
   "metadata": {
    "collapsed": true
   },
   "outputs": [],
   "source": [
    "days_click = []\n",
    "months_click = []\n",
    "times_click = []\n",
    "\n",
    "for date in clicked_dates:\n",
    "    days_click.append(date.isoweekday())\n",
    "    months_click.append(date.month)\n",
    "    times_click.append(date.hour)\n",
    "    \n",
    "days_click = pd.Series(days_click)\n",
    "months_click = pd.Series(months_click)\n",
    "times_click = pd.Series(times_click)"
   ]
  },
  {
   "cell_type": "code",
   "execution_count": 51,
   "metadata": {
    "collapsed": true
   },
   "outputs": [],
   "source": [
    "days_book = []\n",
    "months_book = []\n",
    "times_book = []\n",
    "\n",
    "for date in booked_dates:\n",
    "    days_book.append(date.isoweekday())\n",
    "    months_book.append(date.month)\n",
    "    times_book.append(date.hour)\n",
    "    \n",
    "days_book = pd.Series(days_book)\n",
    "months_book = pd.Series(months_book)\n",
    "times_book = pd.Series(times_book)"
   ]
  },
  {
   "cell_type": "code",
   "execution_count": 52,
   "metadata": {
    "collapsed": true
   },
   "outputs": [],
   "source": [
    "days_unique, days_counts = np.unique(days, return_counts=True)\n",
    "months_unique, months_counts = np.unique(months, return_counts=True)\n",
    "times_unique, times_counts = np.unique(times, return_counts=True)\n",
    "\n",
    "days_unique_click, days_counts_click = np.unique(days_click, return_counts=True)\n",
    "months_unique_click, months_counts_click = np.unique(months_click, return_counts=True)\n",
    "times_unique_click, times_counts_click = np.unique(times_click, return_counts=True)\n",
    "\n",
    "days_unique_book, days_counts_book = np.unique(days_book, return_counts=True)\n",
    "months_unique_book, months_counts_book = np.unique(months_book, return_counts=True)\n",
    "times_unique_book, times_counts_book = np.unique(times_book, return_counts=True)"
   ]
  },
  {
   "cell_type": "code",
   "execution_count": 53,
   "metadata": {
    "collapsed": false
   },
   "outputs": [
    {
     "data": {
      "image/png": "[encoded data removed]",
      "text/plain": [
       "<matplotlib.figure.Figure at 0x114f31dd8>"
      ]
     },
     "metadata": {},
     "output_type": "display_data"
    },
    {
     "data": {
      "image/png": "[encoded data removed]",
      "text/plain": [
       "<matplotlib.figure.Figure at 0x121a572e8>"
      ]
     },
     "metadata": {},
     "output_type": "display_data"
    }
   ],
   "source": [
    "plt.bar(days_unique, days_counts_click/days_counts) \n",
    "plt.show()\n",
    "\n",
    "plt.bar(days_unique, days_counts_book/days_counts)\n",
    "plt.show()"
   ]
  },
  {
   "cell_type": "code",
   "execution_count": 54,
   "metadata": {
    "collapsed": false
   },
   "outputs": [
    {
     "data": {
      "image/png": "[encoded data removed]",
      "text/plain": [
       "<matplotlib.figure.Figure at 0x11b1bad68>"
      ]
     },
     "metadata": {},
     "output_type": "display_data"
    },
    {
     "data": {
      "image/png": "[encoded data removed]",
      "text/plain": [
       "<matplotlib.figure.Figure at 0x11ffb5fd0>"
      ]
     },
     "metadata": {},
     "output_type": "display_data"
    }
   ],
   "source": [
    "plt.bar(months_unique, months_counts_click/months_counts) \n",
    "plt.show()\n",
    "\n",
    "plt.bar(months_unique, months_counts_book/months_counts)\n",
    "plt.show()"
   ]
  },
  {
   "cell_type": "code",
   "execution_count": 55,
   "metadata": {
    "collapsed": false
   },
   "outputs": [
    {
     "data": {
      "image/png": "[encoded data removed]",
      "text/plain": [
       "<matplotlib.figure.Figure at 0x121a679b0>"
      ]
     },
     "metadata": {},
     "output_type": "display_data"
    },
    {
     "data": {
      "image/png": "[encoded data removed]",
      "text/plain": [
       "<matplotlib.figure.Figure at 0x121a67b70>"
      ]
     },
     "metadata": {},
     "output_type": "display_data"
    }
   ],
   "source": [
    "plt.bar(times_unique, times_counts_click/times_counts) \n",
    "plt.show()\n",
    "\n",
    "plt.bar(times_unique, times_counts_book/times_counts)\n",
    "plt.show()"
   ]
  },
  {
   "cell_type": "code",
   "execution_count": null,
   "metadata": {
    "collapsed": false
   },
   "outputs": [],
   "source": [
    "min(df_tst[\"date_time\"])"
   ]
  },
  {
   "cell_type": "code",
   "execution_count": null,
   "metadata": {
    "collapsed": false
   },
   "outputs": [],
   "source": [
    "max(df_tst[\"date_time\"])"
   ]
  },
  {
   "cell_type": "markdown",
   "metadata": {},
   "source": [
    "# Length of stay \\*.\\*"
   ]
  },
  {
   "cell_type": "code",
   "execution_count": null,
   "metadata": {
    "collapsed": true
   },
   "outputs": [],
   "source": [
    "stay = df_tr[\"srch_length_of_stay\"]\n",
    "clicked = df_tr[\"click_bool\"]\n",
    "booked = df_tr[\"booking_bool\"]"
   ]
  },
  {
   "cell_type": "code",
   "execution_count": null,
   "metadata": {
    "collapsed": false
   },
   "outputs": [],
   "source": [
    "print(\"Number of NaNs: \", stay.isnull().sum(), \"\\n\")\n",
    "\n",
    "print(\"Unique values:\")\n",
    "print(\"Number: \", len(stay.unique()))\n",
    "print(\"Percentage: \", len(stay.unique())/len(stay) * 100, \"\\n\")\n",
    "\n",
    "print(\"Max: \", max(stay))\n",
    "print(\"Min: \", min(stay))\n",
    "print(\"Mean: \",np.mean(stay))\n",
    "print(\"Median: \",np.median(stay))"
   ]
  },
  {
   "cell_type": "code",
   "execution_count": null,
   "metadata": {
    "collapsed": false
   },
   "outputs": [],
   "source": [
    "print()\n",
    "\n",
    "plt.hist(stay.sort_values()[0:4000000])\n",
    "plt.show()"
   ]
  },
  {
   "cell_type": "code",
   "execution_count": null,
   "metadata": {
    "collapsed": true
   },
   "outputs": [],
   "source": [
    "booked_stay = []\n",
    "for i in range(len(stay)):\n",
    "    if booked[i] == 1: \n",
    "        booked_stay.append(stay[i])"
   ]
  },
  {
   "cell_type": "code",
   "execution_count": null,
   "metadata": {
    "collapsed": false
   },
   "outputs": [],
   "source": [
    "plt.hist(booked_stay)\n",
    "plt.show()"
   ]
  },
  {
   "cell_type": "code",
   "execution_count": null,
   "metadata": {
    "collapsed": true
   },
   "outputs": [],
   "source": [
    "clicked_stay = []\n",
    "for i in range(len(stay)):\n",
    "    if clicked[i] == 1: \n",
    "        clicked_stay.append(stay[i])"
   ]
  },
  {
   "cell_type": "code",
   "execution_count": null,
   "metadata": {
    "collapsed": false
   },
   "outputs": [],
   "source": [
    "plt.hist(clicked_stay)\n",
    "plt.show()"
   ]
  }
 ],
 "metadata": {
  "kernelspec": {
   "display_name": "Python 3",
   "language": "python",
   "name": "python3"
  },
  "language_info": {
   "codemirror_mode": {
    "name": "ipython",
    "version": 3
   },
   "file_extension": ".py",
   "mimetype": "text/x-python",
   "name": "python",
   "nbconvert_exporter": "python",
   "pygments_lexer": "ipython3",
   "version": "3.6.0"
  }
 },
 "nbformat": 4,
 "nbformat_minor": 2
}
