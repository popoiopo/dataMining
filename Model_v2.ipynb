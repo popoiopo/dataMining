{
 "cells": [
  {
   "cell_type": "markdown",
   "metadata": {},
   "source": [
    "# IMPORT"
   ]
  },
  {
   "cell_type": "code",
   "execution_count": 1,
   "metadata": {},
   "outputs": [],
   "source": [
    "import pandas as pd\n",
    "import numpy as np\n",
    "from numba import jit\n",
    "\n",
    "import matplotlib.pyplot as plt"
   ]
  },
  {
   "cell_type": "code",
   "execution_count": 2,
   "metadata": {},
   "outputs": [],
   "source": [
    "data = pd.read_csv(\"data/training_set_VU_DM_2014.csv\")"
   ]
  },
  {
   "cell_type": "code",
   "execution_count": 3,
   "metadata": {},
   "outputs": [
    {
     "name": "stdout",
     "output_type": "stream",
     "text": [
      "['srch_id' 'date_time' 'site_id' 'visitor_location_country_id'\n",
      " 'visitor_hist_starrating' 'visitor_hist_adr_usd' 'prop_country_id'\n",
      " 'prop_id' 'prop_starrating' 'prop_review_score' 'prop_brand_bool'\n",
      " 'prop_location_score1' 'prop_location_score2' 'prop_log_historical_price'\n",
      " 'position' 'price_usd' 'promotion_flag' 'srch_destination_id'\n",
      " 'srch_length_of_stay' 'srch_booking_window' 'srch_adults_count'\n",
      " 'srch_children_count' 'srch_room_count' 'srch_saturday_night_bool'\n",
      " 'srch_query_affinity_score' 'orig_destination_distance' 'random_bool'\n",
      " 'comp1_rate' 'comp1_inv' 'comp1_rate_percent_diff' 'comp2_rate'\n",
      " 'comp2_inv' 'comp2_rate_percent_diff' 'comp3_rate' 'comp3_inv'\n",
      " 'comp3_rate_percent_diff' 'comp4_rate' 'comp4_inv'\n",
      " 'comp4_rate_percent_diff' 'comp5_rate' 'comp5_inv'\n",
      " 'comp5_rate_percent_diff' 'comp6_rate' 'comp6_inv'\n",
      " 'comp6_rate_percent_diff' 'comp7_rate' 'comp7_inv'\n",
      " 'comp7_rate_percent_diff' 'comp8_rate' 'comp8_inv'\n",
      " 'comp8_rate_percent_diff' 'click_bool' 'gross_bookings_usd'\n",
      " 'booking_bool']\n"
     ]
    }
   ],
   "source": [
    "print(data.columns.values)"
   ]
  },
  {
   "cell_type": "markdown",
   "metadata": {},
   "source": [
    "# SCORE FUNCTION"
   ]
  },
  {
   "cell_type": "code",
   "execution_count": 15,
   "metadata": {},
   "outputs": [],
   "source": [
    "@jit\n",
    "def nDCG(relevances: np.ndarray, positions: np.ndarray) -> float:\n",
    "    # Compute Normalized Discounted Cumulative Gain based on:\n",
    "    # - relevances: Numpy Array containing DCG Relevances (5 if booked, 1 if clicked)\n",
    "    # - positions: Numpy Array containing Positions (The display order)\n",
    "    \n",
    "    positions_normalized = np.argsort(positions)\n",
    "    relevances_ordered = relevances[positions_normalized]\n",
    "    relevances_sorted = np.sort(relevances)[::-1]\n",
    "    \n",
    "    gain = 2 ** relevances_ordered - 1\n",
    "    ideal_gain = 2 ** relevances_sorted - 1\n",
    "    \n",
    "    discount = np.log2(np.arange(len(positions)) + 2)\n",
    "    \n",
    "    DCG = np.sum(gain / discount)\n",
    "    IDCG = np.sum(ideal_gain / discount)\n",
    "    \n",
    "    if IDCG == 0: return 0.0\n",
    "    else: return DCG / IDCG\n",
    "\n",
    "@jit\n",
    "def nDCG_mean(sid_groups: dict, relevance: np.ndarray, position: np.ndarray) -> float:\n",
    "    # Calculate Mean Normalized Discounted Cumulative Gain\n",
    "    \n",
    "    nDCG_sum = 0.0\n",
    "    for sid, indices in sid_groups.items():\n",
    "        nDCG_sum += nDCG(relevance[indices], position[indices])\n",
    "    return nDCG_sum / len(sid_groups)\n",
    "\n",
    "@jit\n",
    "def group_by_search_id(sids) -> dict:\n",
    "    # Group Indices by Search ID, makes calculating mean nDCG faster!\n",
    "    \n",
    "    sid_groups = {}\n",
    "    \n",
    "    for i, sid in enumerate(sids):\n",
    "        if sid not in sid_groups:\n",
    "            sid_groups[sid] = []\n",
    "        sid_groups[sid].append(i)\n",
    "    \n",
    "    return sid_groups"
   ]
  },
  {
   "cell_type": "code",
   "execution_count": 16,
   "metadata": {},
   "outputs": [
    {
     "data": {
      "text/plain": [
       "1.0"
      ]
     },
     "execution_count": 16,
     "metadata": {},
     "output_type": "execute_result"
    }
   ],
   "source": [
    "# Test nDCG - Should be 1.0\n",
    "relevances = np.array([0, 0, 5, 1])\n",
    "positions = np.array([3, 2, 0, 1])\n",
    "nDCG(relevances, positions)"
   ]
  },
  {
   "cell_type": "markdown",
   "metadata": {},
   "source": [
    "# CLEANING"
   ]
  },
  {
   "cell_type": "code",
   "execution_count": 17,
   "metadata": {},
   "outputs": [],
   "source": [
    "# Select Part of Data\n",
    "selection = data[data['random_bool'] == 0]"
   ]
  },
  {
   "cell_type": "code",
   "execution_count": 18,
   "metadata": {},
   "outputs": [],
   "source": [
    "# Get Search ID groups\n",
    "sid_selection = np.array(selection['srch_id'])\n",
    "sid_groups = group_by_search_id(sid_selection)\n",
    "sid_groups = {sid: indices for sid, indices in sid_groups.items() if np.random.uniform() < 0.2}"
   ]
  },
  {
   "cell_type": "code",
   "execution_count": 19,
   "metadata": {},
   "outputs": [],
   "source": [
    "# Get Position in Expedia List\n",
    "position = np.array(selection['position'])"
   ]
  },
  {
   "cell_type": "code",
   "execution_count": 20,
   "metadata": {},
   "outputs": [],
   "source": [
    "# Compute Relevances based on Clicks and Books\n",
    "relevance = np.zeros(len(selection))\n",
    "relevance[selection['click_bool'] == 1] = 1\n",
    "relevance[selection['booking_bool'] == 1] = 5"
   ]
  },
  {
   "cell_type": "code",
   "execution_count": 21,
   "metadata": {},
   "outputs": [
    {
     "data": {
      "text/plain": [
       "0.5162606500699968"
      ]
     },
     "execution_count": 21,
     "metadata": {},
     "output_type": "execute_result"
    }
   ],
   "source": [
    "# Get Mean nDCG Score for positions in data (0.5-ish, quite high!)\n",
    "nDCG_mean(sid_groups, relevance, position)"
   ]
  },
  {
   "cell_type": "code",
   "execution_count": 22,
   "metadata": {},
   "outputs": [
    {
     "name": "stdout",
     "output_type": "stream",
     "text": [
      "(4958347, 3)\n"
     ]
    }
   ],
   "source": [
    "# Features\n",
    "price = data['price_usd']\n",
    "price_stars = data['price_usd'] / (data['prop_starrating'] + 1)\n",
    "\n",
    "review_score = np.array(data['prop_review_score'], np.float32)\n",
    "review_score[np.isnan(review_score)] = np.percentile(review_score[~np.isnan(review_score)], 25)\n",
    "\n",
    "location_score_2 = np.array(data['prop_location_score2'], np.float32)\n",
    "location_score_2[np.isnan(location_score_2)] = np.percentile(location_score_2[~np.isnan(location_score_2)], 25)\n",
    "\n",
    "features = np.array([\n",
    "    price_stars,\n",
    "    review_score,\n",
    "    location_score_2,\n",
    "], np.float32).T\n",
    "\n",
    "print(features.shape)"
   ]
  },
  {
   "cell_type": "markdown",
   "metadata": {},
   "source": [
    "# TRAIN & TEST SPLIT"
   ]
  },
  {
   "cell_type": "code",
   "execution_count": 23,
   "metadata": {},
   "outputs": [
    {
     "name": "stdout",
     "output_type": "stream",
     "text": [
      "Train nDCG: 22581 566591 0.5166371209176909\n",
      "Test nDCG: 5297 133515 0.5146557627353202\n"
     ]
    }
   ],
   "source": [
    "split = 0.8\n",
    "\n",
    "# Create random probabilities for all Search ID's in Data Set\n",
    "sids = np.array([sid for sid in sid_groups.keys()])\n",
    "prob = np.random.uniform(0, 1, len(sids))\n",
    "\n",
    "# Get indices for rows belonging to Seach ID's based on random probability\n",
    "indices_train = np.concatenate([sid_groups[sid] for sid in sids[prob <= split]])\n",
    "indices_test = np.concatenate([sid_groups[sid] for sid in sids[prob > split]])\n",
    "\n",
    "# Get Test and Train Search ID's\n",
    "sids_train = sid_selection[indices_train]\n",
    "sids_test = sid_selection[indices_test]\n",
    "\n",
    "# Get Test and Train Search ID groups: Dict[SearchID, Indices]\n",
    "sid_train_groups = group_by_search_id(sids_train)\n",
    "sid_test_groups = group_by_search_id(sids_test)\n",
    "\n",
    "# Get Test and Train Positions\n",
    "position_train = position[indices_train]\n",
    "position_test = position[indices_test]\n",
    "\n",
    "# Get Test and Train Relevances\n",
    "relevance_train = relevance[indices_train]\n",
    "relevance_test = relevance[indices_test]\n",
    "\n",
    "# Get Test and Train Features\n",
    "features_train = features[indices_train]\n",
    "features_test = features[indices_test]\n",
    "\n",
    "# Print nDCG Performance of the Data itself\n",
    "print(\"Train nDCG:\", len(sid_train_groups), len(indices_train), nDCG_mean(sid_train_groups, relevance_train, position_train))\n",
    "print(\"Test nDCG:\", len(sid_test_groups), len(indices_test), nDCG_mean(sid_test_groups, relevance_test, position_test))"
   ]
  },
  {
   "cell_type": "markdown",
   "metadata": {},
   "source": [
    "# Machine Learning"
   ]
  },
  {
   "cell_type": "code",
   "execution_count": 24,
   "metadata": {},
   "outputs": [
    {
     "name": "stdout",
     "output_type": "stream",
     "text": [
      "Mean nDCG Score: 0.34691870990949836\n",
      "Random Mean nDCG Score: 0.3478128431733729\n"
     ]
    }
   ],
   "source": [
    "from sklearn import ensemble, tree, metrics\n",
    "\n",
    "# Train Classifier to predict Relevance\n",
    "classifier = ensemble.GradientBoostingRegressor()\n",
    "classifier.fit(features_train, relevance_train)\n",
    "relevance_predict = classifier.predict(features_test)\n",
    "\n",
    "# Position is the inverse of Relevance\n",
    "# (We want high relevance to have a low position a.k.a. high on the displayed Expedia List)\n",
    "position_predict = -relevance_predict\n",
    "\n",
    "print(\"Mean nDCG Score:\", \n",
    "      nDCG_mean(sid_test_groups, relevance_test, position_predict))\n",
    "print(\"Random Mean nDCG Score:\",\n",
    "      nDCG_mean(sid_test_groups, relevance_test, np.random.uniform(size=len(position_predict))))"
   ]
  }
 ],
 "metadata": {
  "kernelspec": {
   "display_name": "Python 3",
   "language": "python",
   "name": "python3"
  },
  "language_info": {
   "codemirror_mode": {
    "name": "ipython",
    "version": 3
   },
   "file_extension": ".py",
   "mimetype": "text/x-python",
   "name": "python",
   "nbconvert_exporter": "python",
   "pygments_lexer": "ipython3",
   "version": "3.6.1"
  }
 },
 "nbformat": 4,
 "nbformat_minor": 2
}
