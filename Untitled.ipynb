{
 "cells": [
  {
   "cell_type": "code",
   "execution_count": 11,
   "metadata": {
    "collapsed": true
   },
   "outputs": [],
   "source": [
    "import pandas as pd"
   ]
  },
  {
   "cell_type": "code",
   "execution_count": 6,
   "metadata": {
    "collapsed": false
   },
   "outputs": [
    {
     "name": "stdout",
     "output_type": "stream",
     "text": [
      "(4958347, 54)\n",
      "(4959183, 50)\n"
     ]
    }
   ],
   "source": [
    "# Create smaller csv from big ass dataset\n",
    "# df_training = pd.read_csv(\"train.csv\")\n",
    "# df_test = pd.read_csv(\"test.csv\")\n",
    "# print(df_training.shape)\n",
    "# print(df_test.shape)\n",
    "# # df_training.head(30).to_csv(\"testtrain.csv\")\n",
    "# df_training.head(30).to_csv(\"testtest.csv\")"
   ]
  },
  {
   "cell_type": "code",
   "execution_count": 4,
   "metadata": {
    "collapsed": false
   },
   "outputs": [
    {
     "name": "stdout",
     "output_type": "stream",
     "text": [
      "Unnamed: 0\n",
      "srch_id\n",
      "date_time\n",
      "site_id\n",
      "visitor_location_country_id\n",
      "visitor_hist_starrating\n",
      "visitor_hist_adr_usd\n",
      "prop_country_id\n",
      "prop_id\n",
      "prop_starrating\n",
      "prop_review_score\n",
      "prop_brand_bool\n",
      "prop_location_score1\n",
      "prop_location_score2\n",
      "prop_log_historical_price\n",
      "position\n",
      "price_usd\n",
      "promotion_flag\n",
      "srch_destination_id\n",
      "srch_length_of_stay\n",
      "srch_booking_window\n",
      "srch_adults_count\n",
      "srch_children_count\n",
      "srch_room_count\n",
      "srch_saturday_night_bool\n",
      "srch_query_affinity_score\n",
      "orig_destination_distance\n",
      "random_bool\n",
      "comp1_rate\n",
      "comp1_inv\n",
      "comp1_rate_percent_diff\n",
      "comp2_rate\n",
      "comp2_inv\n",
      "comp2_rate_percent_diff\n",
      "comp3_rate\n",
      "comp3_inv\n",
      "comp3_rate_percent_diff\n",
      "comp4_rate\n",
      "comp4_inv\n",
      "comp4_rate_percent_diff\n",
      "comp5_rate\n",
      "comp5_inv\n",
      "comp5_rate_percent_diff\n",
      "comp6_rate\n",
      "comp6_inv\n",
      "comp6_rate_percent_diff\n",
      "comp7_rate\n",
      "comp7_inv\n",
      "comp7_rate_percent_diff\n",
      "comp8_rate\n",
      "comp8_inv\n",
      "comp8_rate_percent_diff\n",
      "click_bool\n",
      "gross_bookings_usd\n",
      "booking_bool\n",
      "Missing_Values\n",
      "   Unnamed: 0  srch_id            date_time  site_id  \\\n",
      "0           0        1  2013-04-04 08:32:15       12   \n",
      "1           1        1  2013-04-04 08:32:15       12   \n",
      "2           2        1  2013-04-04 08:32:15       12   \n",
      "3           3        1  2013-04-04 08:32:15       12   \n",
      "4           4        1  2013-04-04 08:32:15       12   \n",
      "\n",
      "   visitor_location_country_id  visitor_hist_starrating  visitor_hist_adr_usd  \\\n",
      "0                          187                      NaN                   NaN   \n",
      "1                          187                      NaN                   NaN   \n",
      "2                          187                      NaN                   NaN   \n",
      "3                          187                      NaN                   NaN   \n",
      "4                          187                      NaN                   NaN   \n",
      "\n",
      "   prop_country_id  prop_id  prop_starrating       ...        comp7_rate  \\\n",
      "0              219      893                3       ...               NaN   \n",
      "1              219    10404                4       ...               NaN   \n",
      "2              219    21315                3       ...               NaN   \n",
      "3              219    27348                2       ...               NaN   \n",
      "4              219    29604                4       ...               NaN   \n",
      "\n",
      "   comp7_inv  comp7_rate_percent_diff  comp8_rate  comp8_inv  \\\n",
      "0        NaN                      NaN         0.0        0.0   \n",
      "1        NaN                      NaN         0.0        0.0   \n",
      "2        NaN                      NaN         0.0        0.0   \n",
      "3        NaN                      NaN        -1.0        0.0   \n",
      "4        NaN                      NaN         0.0        0.0   \n",
      "\n",
      "   comp8_rate_percent_diff  click_bool  gross_bookings_usd  booking_bool  \\\n",
      "0                      NaN           0                 NaN             0   \n",
      "1                      NaN           0                 NaN             0   \n",
      "2                      NaN           0                 NaN             0   \n",
      "3                      5.0           0                 NaN             0   \n",
      "4                      NaN           0                 NaN             0   \n",
      "\n",
      "   Missing_Values  \n",
      "0              21  \n",
      "1              23  \n",
      "2              21  \n",
      "3              18  \n",
      "4              21  \n",
      "\n",
      "[5 rows x 56 columns]\n"
     ]
    }
   ],
   "source": [
    "df_tr = pd.read_csv(\"testtrain.csv\")\n",
    "df_tr[\"Missing_Values\"] = len(df_tr.columns) - df_tr.apply(lambda x: x.count(), axis=1)\n",
    "[print(x) for x in df_tr]\n",
    "print(df_tr.head(5))\n",
    "# print(df_tr.Missing_Values)"
   ]
  },
  {
   "cell_type": "code",
   "execution_count": null,
   "metadata": {
    "collapsed": true
   },
   "outputs": [],
   "source": []
  },
  {
   "cell_type": "code",
   "execution_count": null,
   "metadata": {
    "collapsed": true
   },
   "outputs": [],
   "source": []
  }
 ],
 "metadata": {
  "kernelspec": {
   "display_name": "Python 3",
   "language": "python",
   "name": "python3"
  },
  "language_info": {
   "codemirror_mode": {
    "name": "ipython",
    "version": 3
   },
   "file_extension": ".py",
   "mimetype": "text/x-python",
   "name": "python",
   "nbconvert_exporter": "python",
   "pygments_lexer": "ipython3",
   "version": "3.6.0"
  }
 },
 "nbformat": 4,
 "nbformat_minor": 2
}
